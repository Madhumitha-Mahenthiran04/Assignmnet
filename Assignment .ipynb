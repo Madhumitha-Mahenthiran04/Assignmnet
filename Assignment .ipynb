{
 "cells": [
  {
   "cell_type": "code",
   "execution_count": 1,
   "metadata": {},
   "outputs": [],
   "source": [
    "#create 2 list with some brand names\n",
    "car1 = [\"benze\",\"BMW\",\"Audi\"]\n",
    "car2 = [\"Toyota\",\"Maruthi\",\"Hundai\"]"
   ]
  },
  {
   "cell_type": "code",
   "execution_count": 2,
   "metadata": {},
   "outputs": [
    {
     "name": "stdout",
     "output_type": "stream",
     "text": [
      "[]\n"
     ]
    }
   ],
   "source": [
    "def intersection(car1, car2): \n",
    "    car3 = [value for value in car1 if value in car2] \n",
    "    return car3 \n",
    "  \n",
    "# Driver Code \n",
    "\n",
    "car1 = [\"benze\",\"BMW\",\"Audi\"]\n",
    "car2 = [\"Toyota\",\"Maruthi\",\"Hundai\"]\n",
    "\n",
    "print(intersection(car1, car2)) "
   ]
  },
  {
   "cell_type": "code",
   "execution_count": 4,
   "metadata": {},
   "outputs": [
    {
     "name": "stdout",
     "output_type": "stream",
     "text": [
      "['benze', 'BMW', 'Audi', 'Toyota', 'Maruthi', 'Hundai']\n"
     ]
    }
   ],
   "source": [
    "car1 = [\"benze\",\"BMW\",\"Audi\"]\n",
    "car2 = [\"Toyota\",\"Maruthi\",\"Hundai\"]\n",
    "temp = (i for i in range(len(car2), 0, -1) if car2[:i] == car1[-i:])\n",
    "temp2 = next(temp, 0)\n",
    "res = car1 + car2[temp2 : ]\n",
    "print(res)"
   ]
  },
  {
   "cell_type": "code",
   "execution_count": null,
   "metadata": {},
   "outputs": [],
   "source": []
  }
 ],
 "metadata": {
  "kernelspec": {
   "display_name": "Python 3",
   "language": "python",
   "name": "python3"
  },
  "language_info": {
   "codemirror_mode": {
    "name": "ipython",
    "version": 3
   },
   "file_extension": ".py",
   "mimetype": "text/x-python",
   "name": "python",
   "nbconvert_exporter": "python",
   "pygments_lexer": "ipython3",
   "version": "3.8.3"
  }
 },
 "nbformat": 4,
 "nbformat_minor": 4
}
